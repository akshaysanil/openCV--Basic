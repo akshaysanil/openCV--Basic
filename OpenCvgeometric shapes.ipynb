{
 "cells": [
  {
   "cell_type": "markdown",
   "id": "a4d53f5a",
   "metadata": {},
   "source": [
    "# drew geometric shapes on images using Python OpenCV"
   ]
  },
  {
   "cell_type": "code",
   "execution_count": 1,
   "id": "77227e2a",
   "metadata": {},
   "outputs": [],
   "source": [
    "import cv2"
   ]
  },
  {
   "cell_type": "code",
   "execution_count": 64,
   "id": "b93f92fd",
   "metadata": {},
   "outputs": [],
   "source": [
    "img = cv2.imread('lena.jpg',1)\n",
    "\n",
    "# line\n",
    "img = cv2.line(img,(255,50),(255,255),(205,30,20),5)\n",
    "#args          (img_itself,starting,ending,color,thikness)\n",
    "\n",
    "# arrowedline\n",
    "img = cv2.arrowedLine(img,(0,255),(255,255),(20,130,105),5)\n",
    "#args          (img_itself,starting,ending,color,thikness)\n",
    "\n",
    "\n",
    "# rectangle\n",
    "img = cv2.rectangle(img,(350,200),(150,400),(255,204,255),-1)\n",
    "#args              (img_itself,vertex_left,vertex_right,color,thikness(we can use -1 to fill the shape))\n",
    "\n",
    "\n",
    "# circle \n",
    "img = cv2.circle(img,(450,300),50,(131,168,50),5)\n",
    "#args          (img_itself,center,radius,color,thikness)\n",
    "\n",
    "\n",
    "# text\n",
    "font = cv2.FONT_HERSHEY_DUPLEX\n",
    "img = cv2.putText(img,'Wandering',(0,500),font,3,(204,255,255),5,cv2.LINE_AA)\n",
    "#args             (source,text,strtngCrdnte,font,size,color,thickness,line-type)\n",
    "\n",
    "\n",
    "cv2.imshow('image',img)\n",
    "\n",
    "cv2.waitKey(0)\n",
    "cv2.destroyAllWindows()"
   ]
  },
  {
   "cell_type": "code",
   "execution_count": null,
   "id": "dfe7f0be",
   "metadata": {},
   "outputs": [],
   "source": []
  },
  {
   "cell_type": "code",
   "execution_count": null,
   "id": "18c993c4",
   "metadata": {},
   "outputs": [],
   "source": []
  }
 ],
 "metadata": {
  "kernelspec": {
   "display_name": "Python 3 (ipykernel)",
   "language": "python",
   "name": "python3"
  },
  "language_info": {
   "codemirror_mode": {
    "name": "ipython",
    "version": 3
   },
   "file_extension": ".py",
   "mimetype": "text/x-python",
   "name": "python",
   "nbconvert_exporter": "python",
   "pygments_lexer": "ipython3",
   "version": "3.10.4"
  }
 },
 "nbformat": 4,
 "nbformat_minor": 5
}
