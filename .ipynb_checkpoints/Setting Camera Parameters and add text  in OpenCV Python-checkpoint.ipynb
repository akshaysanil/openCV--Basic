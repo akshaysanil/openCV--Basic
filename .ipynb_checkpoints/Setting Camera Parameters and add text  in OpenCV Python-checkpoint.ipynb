{
 "cells": [
  {
   "cell_type": "markdown",
   "id": "2092c2bf",
   "metadata": {},
   "source": [
    "# ADD TEXT TO THE VIDEO"
   ]
  },
  {
   "cell_type": "code",
   "execution_count": 1,
   "id": "59bbf686",
   "metadata": {},
   "outputs": [],
   "source": [
    "import cv2"
   ]
  },
  {
   "cell_type": "code",
   "execution_count": 2,
   "id": "eb01598b",
   "metadata": {},
   "outputs": [
    {
     "name": "stdout",
     "output_type": "stream",
     "text": [
      "640.0\n",
      "480.0\n",
      "1280.0\n",
      "720.0\n"
     ]
    },
    {
     "name": "stderr",
     "output_type": "stream",
     "text": [
      "Warning: Ignoring XDG_SESSION_TYPE=wayland on Gnome. Use QT_QPA_PLATFORM=wayland to run on Wayland anyway.\n"
     ]
    }
   ],
   "source": [
    "cap = cv2.VideoCapture(0)\n",
    "\n",
    "print(cap.get(cv2.CAP_PROP_FRAME_WIDTH))\n",
    "print(cap.get(cv2.CAP_PROP_FRAME_HEIGHT))\n",
    "\n",
    "#       3 represent the frame width\n",
    "cap.set(3,1280)\n",
    "#       4 represent the frame height\n",
    "cap.set(4,720)\n",
    "\n",
    "print(cap.get(3))\n",
    "print(cap.get(4))\n",
    "\n",
    "\n",
    "while(cap.isOpened()):\n",
    "    ret , frame = cap.read()\n",
    "    if ret == True:\n",
    "        \n",
    "        font = cv2.FONT_HERSHEY_COMPLEX\n",
    "        text = 'width: ' + str(cap.get(3)) + ' height: ' + str(cap.get(4))\n",
    "        frame = cv2.putText(frame,text,(10,50),font,1,(255,255,255),2,cv2.LINE_AA)\n",
    "#       args               (source,text,strtngCrdnte,font,size,color,thickness,line-type)\n",
    "        \n",
    "        cv2.imshow('inputFrame',frame)\n",
    "        \n",
    "        if cv2.waitKey(1) == ord('q'):\n",
    "            break\n",
    "    else:\n",
    "        break\n",
    "        \n",
    "cap.release()\n",
    "cv2.destroyAllWindows()\n"
   ]
  },
  {
   "cell_type": "code",
   "execution_count": null,
   "id": "22fdf7ba",
   "metadata": {},
   "outputs": [],
   "source": []
  },
  {
   "cell_type": "code",
   "execution_count": null,
   "id": "c0ea4f00",
   "metadata": {},
   "outputs": [],
   "source": []
  },
  {
   "cell_type": "code",
   "execution_count": null,
   "id": "2ced7bec",
   "metadata": {},
   "outputs": [],
   "source": []
  },
  {
   "cell_type": "code",
   "execution_count": null,
   "id": "6636c607",
   "metadata": {},
   "outputs": [],
   "source": []
  },
  {
   "cell_type": "code",
   "execution_count": null,
   "id": "bef3c5e8",
   "metadata": {},
   "outputs": [],
   "source": []
  },
  {
   "cell_type": "code",
   "execution_count": null,
   "id": "445b883d",
   "metadata": {},
   "outputs": [],
   "source": []
  },
  {
   "cell_type": "code",
   "execution_count": null,
   "id": "c4f130f3",
   "metadata": {},
   "outputs": [],
   "source": []
  }
 ],
 "metadata": {
  "kernelspec": {
   "display_name": "Python 3 (ipykernel)",
   "language": "python",
   "name": "python3"
  },
  "language_info": {
   "codemirror_mode": {
    "name": "ipython",
    "version": 3
   },
   "file_extension": ".py",
   "mimetype": "text/x-python",
   "name": "python",
   "nbconvert_exporter": "python",
   "pygments_lexer": "ipython3",
   "version": "3.10.4"
  }
 },
 "nbformat": 4,
 "nbformat_minor": 5
}
