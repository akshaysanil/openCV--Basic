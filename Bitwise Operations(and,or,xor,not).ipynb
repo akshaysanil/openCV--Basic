{
 "cells": [
  {
   "cell_type": "code",
   "execution_count": 1,
   "id": "1c513cb7",
   "metadata": {},
   "outputs": [],
   "source": [
    "import cv2\n",
    "import numpy as np"
   ]
  },
  {
   "cell_type": "code",
   "execution_count": 7,
   "id": "1fa8f9f7",
   "metadata": {},
   "outputs": [],
   "source": [
    "img1 = np.zeros((250,499,3), np.uint8)\n",
    "img1 = cv2.rectangle(img1,(200,3),(300,100),(255,255,255),-1)\n",
    "img2 = cv2.imread('blk&wht.png')\n",
    "\n",
    "#bitAnd\n",
    "bitAnd = cv2.bitwise_and(img2,img1)\n",
    "cv2.imshow('bitAnd',bitAnd)\n",
    "\n",
    "#bitOr\n",
    "bitOr = cv2.bitwise_or(img2,img1)\n",
    "cv2.imshow('bitOr',bitOr)\n",
    "\n",
    "#bitXor\n",
    "bitXor = cv2.bitwise_xor(img2,img1)\n",
    "cv2.imshow('bitXor',bitXor)\n",
    "\n",
    "#bitNot1\n",
    "bitNot1 = cv2.bitwise_not(img2)\n",
    "cv2.imshow('bitNot1',bitNot1)\n",
    "\n",
    "#bitNot2\n",
    "bitNot2 = cv2.bitwise_not(img1)\n",
    "cv2.imshow('bitNot2',bitNot2)\n",
    "\n",
    "\n",
    "cv2.imshow('image1',img1)\n",
    "cv2.imshow('image2',img2)\n",
    "cv2.waitKey(0)\n",
    "cv2.destroyAllWindows()"
   ]
  },
  {
   "cell_type": "code",
   "execution_count": null,
   "id": "82f2f30d",
   "metadata": {},
   "outputs": [],
   "source": []
  },
  {
   "cell_type": "code",
   "execution_count": null,
   "id": "da30a407",
   "metadata": {},
   "outputs": [],
   "source": []
  }
 ],
 "metadata": {
  "kernelspec": {
   "display_name": "Python 3 (ipykernel)",
   "language": "python",
   "name": "python3"
  },
  "language_info": {
   "codemirror_mode": {
    "name": "ipython",
    "version": 3
   },
   "file_extension": ".py",
   "mimetype": "text/x-python",
   "name": "python",
   "nbconvert_exporter": "python",
   "pygments_lexer": "ipython3",
   "version": "3.10.4"
  }
 },
 "nbformat": 4,
 "nbformat_minor": 5
}
