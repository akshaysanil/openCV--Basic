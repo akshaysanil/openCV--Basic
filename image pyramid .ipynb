{
 "cells": [
  {
   "cell_type": "markdown",
   "id": "b8a35ff0",
   "metadata": {},
   "source": [
    "# Image pyramid\n",
    "* we use image pyramid when we need to change the resolution (lower it) or resize the original image\n"
   ]
  },
  {
   "cell_type": "markdown",
   "id": "3ae7368a",
   "metadata": {},
   "source": [
    "### two types of pyramid\n",
    "* Gaussian pyramid\n",
    "* Laplacian pyramid"
   ]
  },
  {
   "cell_type": "markdown",
   "id": "ed32b3a2",
   "metadata": {},
   "source": [
    "#### Gaussian pyramid\n",
    "* pyrUp() - function increases the size to double of its original size \n",
    "* pyrDown() - function decreases the size to half"
   ]
  },
  {
   "cell_type": "code",
   "execution_count": 1,
   "id": "546ee675",
   "metadata": {},
   "outputs": [],
   "source": [
    "import cv2 as cv\n",
    "import numpy as np\n",
    "import matplotlib.pyplot as plt"
   ]
  },
  {
   "cell_type": "code",
   "execution_count": null,
   "id": "109d885c",
   "metadata": {},
   "outputs": [],
   "source": [
    "img = cv.imread('lena.jpg')\n",
    "'''\n",
    "lwr_res1 = cv.pyrDown(img)\n",
    "lwr_res2 = cv.pyrDown(lwr_res1)\n",
    "\n",
    "hgr_res1 = cv.pyrUp(img)\n",
    "# appying the smallest one lwr_res2\n",
    "hgr_res2 = cv.pyrUp(lwr_res2)\n",
    "\n",
    "cv.imshow('image',img)\n",
    "cv.imshow('lower_reso1',lwr_res1) \n",
    "cv.imshow('lower_reso2',lwr_res2) \n",
    "cv.imshow('higher_reso1',hgr_res1)\n",
    "cv.imshow('higher_reso2',hgr_res2)\n",
    "\n",
    "'''\n",
    "# we can also apply for loop for continuesly pyrDown or pyrUp\n",
    "layer = img.copy()\n",
    "gausian_pyr = [layer]\n",
    "\n",
    "for i in range(5):\n",
    "    layer = cv.pyrDown(layer)\n",
    "    gausian_pyr.append(layer)\n",
    "    cv.imshow(str(i),layer)\n",
    "\n",
    "'''laplacian pyramid = it is formed by the diff btween that \n",
    "the level in gaussian pyramid and expanded version of its upperlevel in gaussian pyramid\n",
    "'''\n",
    "for i in range(5,0,-1):\n",
    "    gaussian_extended = cv.pyrUp(gausian_pyr[i])\n",
    "    laplacian = cv.subtract(gausian_pyr[i-1],gaussian_extended)\n",
    "    cv.imshow(str(i),laplacian)\n",
    "\n",
    "cv.waitKey(0)\n",
    "cv.destroyAllWindows()"
   ]
  }
 ],
 "metadata": {
  "kernelspec": {
   "display_name": "Python 3 (ipykernel)",
   "language": "python",
   "name": "python3"
  },
  "language_info": {
   "codemirror_mode": {
    "name": "ipython",
    "version": 3
   },
   "file_extension": ".py",
   "mimetype": "text/x-python",
   "name": "python",
   "nbconvert_exporter": "python",
   "pygments_lexer": "ipython3",
   "version": "3.10.4"
  }
 },
 "nbformat": 4,
 "nbformat_minor": 5
}
