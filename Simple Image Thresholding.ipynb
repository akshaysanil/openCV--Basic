{
 "cells": [
  {
   "cell_type": "markdown",
   "id": "f85ea753",
   "metadata": {},
   "source": [
    "# Simple Image Thresholding"
   ]
  },
  {
   "cell_type": "code",
   "execution_count": 1,
   "id": "aa1fa301",
   "metadata": {},
   "outputs": [],
   "source": [
    "import numpy as np\n",
    "import cv2 as cv"
   ]
  },
  {
   "cell_type": "markdown",
   "id": "82dcb89d",
   "metadata": {},
   "source": [
    "Creating various thresholds"
   ]
  },
  {
   "cell_type": "code",
   "execution_count": 3,
   "id": "73a8d413",
   "metadata": {},
   "outputs": [
    {
     "name": "stderr",
     "output_type": "stream",
     "text": [
      "Warning: Ignoring XDG_SESSION_TYPE=wayland on Gnome. Use QT_QPA_PLATFORM=wayland to run on Wayland anyway.\n"
     ]
    }
   ],
   "source": [
    "img = cv.imread('gradient.png',0)\n",
    "\n",
    "# Binary -it has only two values 0 or max \n",
    "_,th1 = cv.threshold(img,120,255,cv.THRESH_BINARY)\n",
    "# Binary inverse - it gives two values that totally opposite\n",
    "_,th2 = cv.threshold(img,120,255,cv.THRESH_BINARY_INV)\n",
    "# Trunc  - it will remanin unchanged to the threshold value ,then the value will be the threshold value\n",
    "_,th3 = cv.threshold(img,120,255,cv.THRESH_TRUNC)\n",
    "# ToZero -the pixel value is less than threshold value it set to 0,greaterthan threshold it got the same pixel value\n",
    "_,th4 = cv.threshold(img,120,255,cv.THRESH_TOZERO)\n",
    "# ToZero inverse - opposite to the threshold value\n",
    "_,th5 = cv.threshold(img,120,255,cv.THRESH_TOZERO_INV)\n",
    "\n",
    "\n",
    "cv.imshow('th1-bin',th1)\n",
    "cv.imshow('th2-bin_Inv',th2)\n",
    "cv.imshow('th3-trunc',th3)\n",
    "cv.imshow('th4-tozero',th4)\n",
    "cv.imshow('th5-tozero_inv',th5)\n",
    "cv.imshow('image',img)\n",
    "\n",
    "cv.waitKey(0)\n",
    "cv.destroyAllWindows()"
   ]
  },
  {
   "cell_type": "code",
   "execution_count": null,
   "id": "cd793a18",
   "metadata": {},
   "outputs": [],
   "source": []
  }
 ],
 "metadata": {
  "kernelspec": {
   "display_name": "Python 3 (ipykernel)",
   "language": "python",
   "name": "python3"
  },
  "language_info": {
   "codemirror_mode": {
    "name": "ipython",
    "version": 3
   },
   "file_extension": ".py",
   "mimetype": "text/x-python",
   "name": "python",
   "nbconvert_exporter": "python",
   "pygments_lexer": "ipython3",
   "version": "3.10.4"
  }
 },
 "nbformat": 4,
 "nbformat_minor": 5
}
