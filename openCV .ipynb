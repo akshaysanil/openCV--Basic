{
 "cells": [
  {
   "cell_type": "code",
   "execution_count": 10,
   "id": "1ea4cf39",
   "metadata": {},
   "outputs": [],
   "source": [
    "import cv2\n",
    "import numpy as np"
   ]
  },
  {
   "cell_type": "code",
   "execution_count": 11,
   "id": "bc013738",
   "metadata": {
    "scrolled": true
   },
   "outputs": [
    {
     "name": "stdout",
     "output_type": "stream",
     "text": [
      "(342, 548, 3)\n",
      "562248\n",
      "uint8\n"
     ]
    }
   ],
   "source": [
    "img = cv2.imread('messi5.jpg')\n",
    "\n",
    "print(img.shape) # rows, columns , channel\n",
    "print(img.size)  # total no of pixels\n",
    "print(img.dtype) # image datatype\n",
    "\n",
    "b,g,r = cv2.split(img) # we can split our BGR channal like this\n",
    "img = cv2.merge((b,g,r))\n",
    "\n",
    "\n"
   ]
  },
  {
   "cell_type": "markdown",
   "id": "8fe19552",
   "metadata": {},
   "source": [
    "# ROI(region of interest)"
   ]
  },
  {
   "cell_type": "markdown",
   "id": "db94b07e",
   "metadata": {},
   "source": [
    "here we are select the football part and place it to another place too"
   ]
  },
  {
   "cell_type": "code",
   "execution_count": 12,
   "id": "524c741e",
   "metadata": {},
   "outputs": [],
   "source": [
    "ball = img[280:340, 330:390]\n",
    "img[273:333,100:160] = ball"
   ]
  },
  {
   "cell_type": "code",
   "execution_count": null,
   "id": "34406bf6",
   "metadata": {},
   "outputs": [],
   "source": []
  },
  {
   "cell_type": "markdown",
   "id": "cfccdd2b",
   "metadata": {},
   "source": [
    "we are reading one more image"
   ]
  },
  {
   "cell_type": "code",
   "execution_count": 13,
   "id": "efe64e6c",
   "metadata": {},
   "outputs": [],
   "source": [
    "img2 = cv2.imread('opencv-logo.png')"
   ]
  },
  {
   "cell_type": "markdown",
   "id": "9b257713",
   "metadata": {},
   "source": [
    "# Adding two images using add()  "
   ]
  },
  {
   "cell_type": "code",
   "execution_count": 14,
   "id": "2ef60f43",
   "metadata": {},
   "outputs": [],
   "source": [
    "# first we need to resize the two images \n",
    "img = cv2.resize(img,(512,512))\n",
    "img2 = cv2.resize(img2,(512,512))\n",
    "newImg = cv2.add(img,img2)"
   ]
  },
  {
   "cell_type": "markdown",
   "id": "3c52495a",
   "metadata": {},
   "source": [
    "# adding two images using addWeighted()"
   ]
  },
  {
   "cell_type": "code",
   "execution_count": null,
   "id": "64217fdf",
   "metadata": {},
   "outputs": [],
   "source": []
  },
  {
   "cell_type": "code",
   "execution_count": null,
   "id": "006fa5bc",
   "metadata": {},
   "outputs": [],
   "source": []
  },
  {
   "cell_type": "code",
   "execution_count": null,
   "id": "e1a4e332",
   "metadata": {},
   "outputs": [],
   "source": []
  },
  {
   "cell_type": "code",
   "execution_count": 15,
   "id": "e1cb6056",
   "metadata": {},
   "outputs": [],
   "source": [
    "cv2.imshow('image',newImg)\n",
    "cv2.waitKey(0)\n",
    "cv2.destroyAllWindows()"
   ]
  },
  {
   "cell_type": "code",
   "execution_count": null,
   "id": "958cd904",
   "metadata": {},
   "outputs": [],
   "source": []
  }
 ],
 "metadata": {
  "kernelspec": {
   "display_name": "Python 3 (ipykernel)",
   "language": "python",
   "name": "python3"
  },
  "language_info": {
   "codemirror_mode": {
    "name": "ipython",
    "version": 3
   },
   "file_extension": ".py",
   "mimetype": "text/x-python",
   "name": "python",
   "nbconvert_exporter": "python",
   "pygments_lexer": "ipython3",
   "version": "3.10.4"
  }
 },
 "nbformat": 4,
 "nbformat_minor": 5
}
