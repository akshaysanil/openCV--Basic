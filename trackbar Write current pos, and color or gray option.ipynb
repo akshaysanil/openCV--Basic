{
 "cells": [
  {
   "cell_type": "markdown",
   "id": "60c11797",
   "metadata": {},
   "source": [
    "# Trackbar Write current position, and color or gray option"
   ]
  },
  {
   "cell_type": "code",
   "execution_count": 1,
   "id": "3d4f9434",
   "metadata": {},
   "outputs": [],
   "source": [
    "import numpy as np\n",
    "import cv2 as cv"
   ]
  },
  {
   "cell_type": "code",
   "execution_count": 4,
   "id": "bf639ca1",
   "metadata": {},
   "outputs": [],
   "source": [
    "# call back function\n",
    "def nothing(x):\n",
    "    pass\n",
    "\n",
    "# creating a window\n",
    "cv.namedWindow('image')\n",
    "\n",
    "# creating the trackbar for Current Position\n",
    "#        (trackbarname,windowname,starting, range,c-allback)\n",
    "cv.createTrackbar('CP','image',0,500,nothing)\n",
    "\n",
    "switch = 'color / gray'\n",
    "#        (trackbarname,windowname,starting, range,callback)\n",
    "cv.createTrackbar(switch,'image',0,1,nothing)\n",
    "\n",
    "while True:\n",
    "    img = cv.imread('lena.jpg')\n",
    "    pos = cv.getTrackbarPos('CP','image')\n",
    "    font = cv.FONT_HERSHEY_SIMPLEX\n",
    "    cv.putText(img,str(pos),(50,100),font,3,(0,255,0),2)\n",
    "\n",
    "    k = cv.waitKey(1)\n",
    "    if k == 27:\n",
    "        break\n",
    "\n",
    "    s = cv.getTrackbarPos(switch,'image')\n",
    "\n",
    "    if s == 0 :\n",
    "        pass\n",
    "    else:\n",
    "        img = cv.cvtColor(img,cv.COLOR_BGR2GRAY)\n",
    "\n",
    "    img = cv.imshow('image',img)\n",
    "    \n",
    "cv.destroyAllWindows()"
   ]
  },
  {
   "cell_type": "code",
   "execution_count": null,
   "id": "544acd7e",
   "metadata": {},
   "outputs": [],
   "source": []
  },
  {
   "cell_type": "code",
   "execution_count": null,
   "id": "b4b01b05",
   "metadata": {},
   "outputs": [],
   "source": []
  }
 ],
 "metadata": {
  "kernelspec": {
   "display_name": "Python 3 (ipykernel)",
   "language": "python",
   "name": "python3"
  },
  "language_info": {
   "codemirror_mode": {
    "name": "ipython",
    "version": 3
   },
   "file_extension": ".py",
   "mimetype": "text/x-python",
   "name": "python",
   "nbconvert_exporter": "python",
   "pygments_lexer": "ipython3",
   "version": "3.10.4"
  }
 },
 "nbformat": 4,
 "nbformat_minor": 5
}
