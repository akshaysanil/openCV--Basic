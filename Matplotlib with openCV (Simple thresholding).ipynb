{
 "cells": [
  {
   "cell_type": "markdown",
   "id": "463178a8",
   "metadata": {},
   "source": [
    "# Matplotlib with openCV (Simple thresholding)\n"
   ]
  },
  {
   "cell_type": "code",
   "execution_count": 1,
   "id": "67805d35",
   "metadata": {},
   "outputs": [],
   "source": [
    "import cv2 as cv\n",
    "import matplotlib.pyplot as plt"
   ]
  },
  {
   "cell_type": "code",
   "execution_count": 2,
   "id": "e29622b1",
   "metadata": {},
   "outputs": [
    {
     "data": {
      "image/png": "[encoded data removed]",
      "text/plain": [
       "<Figure size 432x288 with 6 Axes>"
      ]
     },
     "metadata": {},
     "output_type": "display_data"
    }
   ],
   "source": [
    "img = cv.imread('gradient.png',0)\n",
    "\n",
    "# Binary -it has only two values 0 or max \n",
    "_,th1 = cv.threshold(img,120,255,cv.THRESH_BINARY)\n",
    "# Binary inverse - it gives two values that totally opposite\n",
    "_,th2 = cv.threshold(img,120,255,cv.THRESH_BINARY_INV)\n",
    "# Trunc  - it will remanin unchanged to the threshold value ,then the value will be the threshold value\n",
    "_,th3 = cv.threshold(img,120,255,cv.THRESH_TRUNC)\n",
    "# ToZero -the pixel value is less than threshold value it set to 0,greaterthan threshold it got the same pixel value\n",
    "_,th4 = cv.threshold(img,120,255,cv.THRESH_TOZERO)\n",
    "# ToZero inverse - opposite to the threshold value\n",
    "_,th5 = cv.threshold(img,120,255,cv.THRESH_TOZERO_INV)\n",
    "\n",
    "'''\n",
    "cv.imshow('th1-bin',th1)\n",
    "cv.imshow('th2-bin_Inv',th2)\n",
    "cv.imshow('th3-trunc',th3)\n",
    "cv.imshow('th4-tozero',th4)\n",
    "cv.imshow('th5-tozero_inv',th5)\n",
    "cv.imshow('image',img)\n",
    "''' \n",
    "# instead of using this much imshow() method we can use subplot()\n",
    "\n",
    "titles = ['Original Image','Binary','Binary-Inv','Trunc','Tozero','Tozero-Inv']\n",
    "images = [img,th1,th2,th3,th4,th5]\n",
    "\n",
    "for i in range(6):\n",
    "    #\n",
    "    plt.subplot(2,3,i+1) \n",
    "    plt.imshow(images[i],'gray')\n",
    "    plt.title(titles[i])\n",
    "    plt.xticks([]),plt.yticks([])\n",
    "    \n",
    "plt.show()\n",
    "\n",
    "cv.waitKey(0)\n",
    "cv.destroyAllWindows()"
   ]
  },
  {
   "cell_type": "code",
   "execution_count": null,
   "id": "210a8e91",
   "metadata": {},
   "outputs": [],
   "source": []
  },
  {
   "cell_type": "code",
   "execution_count": null,
   "id": "5a847014",
   "metadata": {},
   "outputs": [],
   "source": []
  },
  {
   "cell_type": "code",
   "execution_count": null,
   "id": "b22595f3",
   "metadata": {},
   "outputs": [],
   "source": []
  }
 ],
 "metadata": {
  "kernelspec": {
   "display_name": "Python 3 (ipykernel)",
   "language": "python",
   "name": "python3"
  },
  "language_info": {
   "codemirror_mode": {
    "name": "ipython",
    "version": 3
   },
   "file_extension": ".py",
   "mimetype": "text/x-python",
   "name": "python",
   "nbconvert_exporter": "python",
   "pygments_lexer": "ipython3",
   "version": "3.10.4"
  }
 },
 "nbformat": 4,
 "nbformat_minor": 5
}
