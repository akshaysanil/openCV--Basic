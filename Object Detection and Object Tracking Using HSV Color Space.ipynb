{
 "cells": [
  {
   "cell_type": "markdown",
   "id": "8c60d8df",
   "metadata": {},
   "source": [
    "# Object Detection and Object Tracking Using HSV Color Space"
   ]
  },
  {
   "cell_type": "code",
   "execution_count": 1,
   "id": "a0386ede",
   "metadata": {},
   "outputs": [],
   "source": [
    "import numpy as np\n",
    "import cv2 as cv"
   ]
  },
  {
   "cell_type": "code",
   "execution_count": 2,
   "id": "ba59b294",
   "metadata": {},
   "outputs": [
    {
     "name": "stderr",
     "output_type": "stream",
     "text": [
      "Warning: Ignoring XDG_SESSION_TYPE=wayland on Gnome. Use QT_QPA_PLATFORM=wayland to run on Wayland anyway.\n"
     ]
    }
   ],
   "source": [
    "def nothing(x):\n",
    "    pass\n",
    "\n",
    "# for capturing video\n",
    "cap = cv.VideoCapture(0)\n",
    "\n",
    "# setting trackbar for hsv\n",
    "cv.namedWindow('tracking')\n",
    "# args        (trackbarname,window,initial_val,range,callback_fun)\n",
    "# Lower hue-LH,\n",
    "cv.createTrackbar('LH','tracking',0,255,nothing)\n",
    "# Lower Saturation-LS,\n",
    "cv.createTrackbar('LS','tracking',0,255,nothing)\n",
    "# Lower Value-LV,\n",
    "cv.createTrackbar('LV','tracking',0,255,nothing)\n",
    "# Upper Hue -UH\n",
    "cv.createTrackbar('UH','tracking',255,255,nothing)\n",
    "# Upper Saturation -US\n",
    "cv.createTrackbar('US','tracking',255,255,nothing)\n",
    "# Upper Value -UV\n",
    "cv.createTrackbar('UV','tracking',255,255,nothing)\n",
    "\n",
    "\n",
    "while True:\n",
    "\n",
    "    # frame = cv.imread('smarties.png')\n",
    "    _,frame = cap.read()\n",
    "    hsv = cv.cvtColor(frame,cv.COLOR_BGR2HSV)\n",
    "\n",
    "# lower values and upper values of HSV\n",
    "    l_h = cv.getTrackbarPos('LH','tracking')\n",
    "    l_s = cv.getTrackbarPos('LS','tracking')\n",
    "    l_v = cv.getTrackbarPos('LV','tracking')\n",
    "\n",
    "    u_h  = cv.getTrackbarPos('UH','tracking')\n",
    "    u_s  = cv.getTrackbarPos('US','tracking')\n",
    "    u_v  = cv.getTrackbarPos('UV','tracking')\n",
    "\n",
    "\n",
    "#   lower value of blue in HSV\n",
    "    l_b = np.array([l_h, l_s, l_v])\n",
    "#   upper value of in HSV\n",
    "    u_b = np.array([u_h ,u_s ,u_v])\n",
    "\n",
    "#   threshold the hsv image to only the blue image\n",
    "    mask = cv.inRange(hsv,l_b,u_b)\n",
    "\n",
    "#   using bitwise and to mask the original image (res = result)\n",
    "\n",
    "#args                   (src1,src2,mask(lwr_value,upr_value))\n",
    "    res = cv.bitwise_and(frame,frame,mask=mask)  \n",
    "\n",
    "#   creating imshow for each frame ,mask ,and result\n",
    "    cv.imshow('frame',frame)\n",
    "    cv.imshow('mask',mask)\n",
    "    cv.imshow('res',res )\n",
    "\n",
    "    k = cv.waitKey(0)\n",
    "    if k == 27:\n",
    "        break\n",
    "\n",
    "cap.release() \n",
    "cv.destroyAllWindows()"
   ]
  },
  {
   "cell_type": "code",
   "execution_count": null,
   "id": "bc643557",
   "metadata": {},
   "outputs": [],
   "source": []
  }
 ],
 "metadata": {
  "kernelspec": {
   "display_name": "Python 3 (ipykernel)",
   "language": "python",
   "name": "python3"
  },
  "language_info": {
   "codemirror_mode": {
    "name": "ipython",
    "version": 3
   },
   "file_extension": ".py",
   "mimetype": "text/x-python",
   "name": "python",
   "nbconvert_exporter": "python",
   "pygments_lexer": "ipython3",
   "version": "3.10.4"
  }
 },
 "nbformat": 4,
 "nbformat_minor": 5
}
