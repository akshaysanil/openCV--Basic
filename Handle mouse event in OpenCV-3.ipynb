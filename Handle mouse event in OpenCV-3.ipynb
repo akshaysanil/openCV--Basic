{
 "cells": [
  {
   "cell_type": "code",
   "execution_count": 1,
   "id": "0fa5b449",
   "metadata": {},
   "outputs": [],
   "source": [
    "import cv2\n",
    "import numpy as np"
   ]
  },
  {
   "cell_type": "markdown",
   "id": "73724308",
   "metadata": {},
   "source": [
    "# colors of clicking cordinate"
   ]
  },
  {
   "cell_type": "markdown",
   "id": "aa3d170c",
   "metadata": {},
   "source": [
    "find the color of the spot in the image where we are clicking"
   ]
  },
  {
   "cell_type": "code",
   "execution_count": 6,
   "id": "063f61f4",
   "metadata": {},
   "outputs": [],
   "source": [
    "def click_event(event,x,y,flags,param):\n",
    "    if event == cv2.EVENT_LBUTTONDOWN:\n",
    "        blue = img[x,y,0]\n",
    "        green = img[x,y,1]\n",
    "        red = img[x,y,2]\n",
    "        \n",
    "        cv2.circle(img,(x,y),3,(0,255,2),1)\n",
    "        mycolorimage = np.zeros((512,512,3),np.uint8)\n",
    "        mycolorimage[:] = [blue,green,red]\n",
    "        cv2.imshow('color',mycolorimage)\n",
    "        \n",
    "img = cv2.imread('lena.jpg')\n",
    "cv2.imshow('image',img)\n",
    "cv2.setMouseCallback('image',click_event)\n",
    "cv2.waitKey(0)\n",
    "cv2.destroyAllWindows()"
   ]
  },
  {
   "cell_type": "code",
   "execution_count": null,
   "id": "b767159b",
   "metadata": {},
   "outputs": [],
   "source": []
  },
  {
   "cell_type": "code",
   "execution_count": null,
   "id": "96acfc1c",
   "metadata": {},
   "outputs": [],
   "source": []
  },
  {
   "cell_type": "code",
   "execution_count": null,
   "id": "ac9bf5c9",
   "metadata": {},
   "outputs": [],
   "source": []
  }
 ],
 "metadata": {
  "kernelspec": {
   "display_name": "Python 3 (ipykernel)",
   "language": "python",
   "name": "python3"
  },
  "language_info": {
   "codemirror_mode": {
    "name": "ipython",
    "version": 3
   },
   "file_extension": ".py",
   "mimetype": "text/x-python",
   "name": "python",
   "nbconvert_exporter": "python",
   "pygments_lexer": "ipython3",
   "version": "3.10.4"
  }
 },
 "nbformat": 4,
 "nbformat_minor": 5
}
