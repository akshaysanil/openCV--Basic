{
 "cells": [
  {
   "cell_type": "markdown",
   "id": "e2bed910",
   "metadata": {},
   "source": [
    "# Image blending using openCV\n",
    "* Image Blending techniques mainly focus on two major aspects for creating a blended image by using Image Pyramids, namely Gaussian and Laplacian Pyramids. A pyramid or pyramid representation is a type of multi-scale representation where an image is repeatedly smoothened and subsampled. It searches for a target pattern over many repetitive scales. At first from the image, it creates copies of the target pattern and reconstructs it over several expanded scales. Each copy is then convolved with the original image, creating a new and unique image."
   ]
  },
  {
   "cell_type": "code",
   "execution_count": 1,
   "id": "8a3710b2",
   "metadata": {},
   "outputs": [],
   "source": [
    "import cv2 as cv\n",
    "import numpy as np\n",
    "import matplotlib.pyplot as plt"
   ]
  },
  {
   "cell_type": "markdown",
   "id": "6055b88d",
   "metadata": {},
   "source": [
    "Printing The Shape and Size of Our Images Imported\n"
   ]
  },
  {
   "cell_type": "code",
   "execution_count": 2,
   "id": "07038a7b",
   "metadata": {},
   "outputs": [],
   "source": [
    "img1 = cv.imread('apple.jpg') \n",
    "img2 = cv.imread('orange.jpg')\n",
    "print(img1.shape)\n",
    "print(img2.shape)"
   ]
  },
  {
   "cell_type": "markdown",
   "id": "eaa54233",
   "metadata": {},
   "source": [
    "Dividing them into right and left half as tuples using hstack \n"
   ]
  },
  {
   "cell_type": "code",
   "execution_count": 4,
   "id": "70b884e9",
   "metadata": {},
   "outputs": [],
   "source": [
    "apple_orange = np.hstack((img1[:,:256],img2[:,256:]))"
   ]
  },
  {
   "cell_type": "code",
   "execution_count": 6,
   "id": "49ad5ad4",
   "metadata": {},
   "outputs": [],
   "source": [
    "# generate Gaussian pyramid for apple\n",
    "apple_copy = img1.copy()\n",
    "gp_apple = [apple_copy]\n",
    "for i in range(6):\n",
    "    apple_copy = cv.pyrDown(apple_copy)\n",
    "    gp_apple.append(apple_copy)\n",
    "\n",
    "# generate gaussian pyramid for orange\n",
    "orange_copy = img2.copy()\n",
    "gp_orange = [orange_copy]\n",
    "for i in range(6):\n",
    "    orange_copy = cv.pyrDown(orange_copy)\n",
    "    gp_orange.append(orange_copy)\n",
    "\n",
    "# generate Laplacian pyramid for apple\n",
    "apple_copy = gp_apple[5]\n",
    "lp_apple = [apple_copy]\n",
    "for i in range(5, 0 , -1):\n",
    "    gaussian_expanded = cv.pyrUp(gp_apple[i]) \n",
    "    laplacian = cv.subtract(gp_apple[i-1],gaussian_expanded)\n",
    "    lp_apple.append(laplacian)\n",
    "\n",
    "# generate laplacian pyramid for orange\n",
    "orange_copy = gp_orange[5]\n",
    "lp_orange = [orange_copy]\n",
    "for i in range(5, 0, -1):\n",
    "    gaussian_expanded = cv.pyrUp(gp_orange[i])\n",
    "    laplacian = cv.subtract(gp_orange[i-1],gaussian_expanded)\n",
    "    lp_orange.append(laplacian)\n",
    "    \n",
    "# now add left and right halves of images in each level\n",
    "apple_orange_pyramid = []\n",
    "n = 0\n",
    "for apple_lap , orange_lap in zip(lp_apple,lp_orange):\n",
    "    n += 1\n",
    "    cols, rows , ch = apple_lap.shape\n",
    "    laplacian = np.hstack((apple_lap[:, :int(cols/2)], orange_lap[:,int(cols/2):]))\n",
    "    apple_orange_pyramid.append(laplacian)\n",
    "\n",
    "# now reconstruct\n",
    "apple_orange_reconstruct = apple_orange_pyramid[0]\n",
    "for i in range(1,6):\n",
    "    apple_orange_reconstruct = cv.pyrUp(apple_orange_reconstruct)\n",
    "    apple_orange_reconstruct = cv.add(apple_orange_pyramid[i],apple_orange_reconstruct)\n"
   ]
  },
  {
   "cell_type": "code",
   "execution_count": 7,
   "id": "aeb9a8ba",
   "metadata": {},
   "outputs": [
    {
     "name": "stderr",
     "output_type": "stream",
     "text": [
      "Warning: Ignoring XDG_SESSION_TYPE=wayland on Gnome. Use QT_QPA_PLATFORM=wayland to run on Wayland anyway.\n"
     ]
    }
   ],
   "source": [
    "cv.imshow('orange',img1)\n",
    "cv.imshow('apple',img2)\n",
    "cv.imshow('apple_orange_reconstruct',apple_orange_reconstruct)\n",
    "\n",
    "\n",
    "cv.waitKey(0)\n",
    "cv.destroyAllWindows()"
   ]
  },
  {
   "cell_type": "code",
   "execution_count": null,
   "id": "308349fd",
   "metadata": {},
   "outputs": [],
   "source": []
  }
 ],
 "metadata": {
  "kernelspec": {
   "display_name": "Python 3 (ipykernel)",
   "language": "python",
   "name": "python3"
  },
  "language_info": {
   "codemirror_mode": {
    "name": "ipython",
    "version": 3
   },
   "file_extension": ".py",
   "mimetype": "text/x-python",
   "name": "python",
   "nbconvert_exporter": "python",
   "pygments_lexer": "ipython3",
   "version": "3.10.4"
  }
 },
 "nbformat": 4,
 "nbformat_minor": 5
}
