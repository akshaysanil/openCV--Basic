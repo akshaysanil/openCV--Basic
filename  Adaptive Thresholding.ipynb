{
 "cells": [
  {
   "cell_type": "markdown",
   "id": "4e7d8e81",
   "metadata": {},
   "source": [
    "# Adaptive Thresholding"
   ]
  },
  {
   "cell_type": "code",
   "execution_count": 1,
   "id": "af884491",
   "metadata": {},
   "outputs": [],
   "source": [
    "import cv2 as cv"
   ]
  },
  {
   "cell_type": "markdown",
   "id": "6778df66",
   "metadata": {},
   "source": [
    " There are two methods in adaptive thresholds\n",
    "* Adaptive thresholding mean c\n",
    "* Adaptive thresholding gaussian c\n",
    "# arguments\n",
    "* args                  (source, maxVal, adaptiveMethod, thresholdType, blocksize, constant)\n",
    "* adaptiveMethod: Adaptive method decides how threshold value is calculated.\n",
    "* thresholdType: The type of thresholding to be applied.\n",
    "* blockSize: Size of a pixel neighborhood that is used to calculate a threshold value.\n",
    "* constant: A constant value that is subtracted from the mean or weighted sum of the neighbourhood pixels."
   ]
  },
  {
   "cell_type": "code",
   "execution_count": 2,
   "id": "952f372f",
   "metadata": {},
   "outputs": [
    {
     "name": "stderr",
     "output_type": "stream",
     "text": [
      "Warning: Ignoring XDG_SESSION_TYPE=wayland on Gnome. Use QT_QPA_PLATFORM=wayland to run on Wayland anyway.\n"
     ]
    }
   ],
   "source": [
    "img = cv.imread('sudoku.png',0)\n",
    "\n",
    "# simple threshold\n",
    "_,th1 = cv.threshold(img,120,255,cv.THRESH_BINARY)\n",
    "\n",
    "#adaptive thresholdings\n",
    "''' mean c - threshold value is mean of the neighbouring pixels,\n",
    "            OR it is the mean of the blockSize×blockSize neighborhood of a point minus constant.'''\n",
    "\n",
    "#args                  (source, maxVal, adaptiveMethod, thresholdType, blocksize, constant)\n",
    "th2 = cv.adaptiveThreshold(img,255,cv.ADAPTIVE_THRESH_MEAN_C,cv.THRESH_BINARY,11,2)\n",
    "\n",
    "''' gaussian c - threshold value is gaussian weighted sum of the neigbouring pixels,\n",
    "                OR t is a weighted sum of the blockSize×blockSize neighborhood of a point minus constant. '''  \n",
    "th3 = cv.adaptiveThreshold(img,255,cv.ADAPTIVE_THRESH_GAUSSIAN_C,cv.THRESH_BINARY,11,2)\n",
    "\n",
    "cv.imshow('original',img)\n",
    "cv.imshow('th1-bin',th1)\n",
    "cv.imshow('th2-mean_c',th2)\n",
    "cv.imshow('th3-gaussian_c',th3)\n",
    "\n",
    "\n",
    "cv.waitKey(0)\n",
    "cv.destroyAllWindows()"
   ]
  },
  {
   "cell_type": "code",
   "execution_count": null,
   "id": "f24e88c9",
   "metadata": {},
   "outputs": [],
   "source": []
  }
 ],
 "metadata": {
  "kernelspec": {
   "display_name": "Python 3 (ipykernel)",
   "language": "python",
   "name": "python3"
  },
  "language_info": {
   "codemirror_mode": {
    "name": "ipython",
    "version": 3
   },
   "file_extension": ".py",
   "mimetype": "text/x-python",
   "name": "python",
   "nbconvert_exporter": "python",
   "pygments_lexer": "ipython3",
   "version": "3.10.4"
  }
 },
 "nbformat": 4,
 "nbformat_minor": 5
}
