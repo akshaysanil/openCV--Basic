{
 "cells": [
  {
   "cell_type": "markdown",
   "id": "9e1e753c",
   "metadata": {},
   "source": [
    "# Trackbar setting for BGR adjesting with ON & OFF"
   ]
  },
  {
   "cell_type": "code",
   "execution_count": 4,
   "id": "893bc0be",
   "metadata": {},
   "outputs": [],
   "source": [
    "import numpy as np\n",
    "import cv2 as cv"
   ]
  },
  {
   "cell_type": "markdown",
   "id": "d1507683",
   "metadata": {},
   "source": [
    "creating a call back function"
   ]
  },
  {
   "cell_type": "code",
   "execution_count": 5,
   "id": "6ea7595b",
   "metadata": {},
   "outputs": [],
   "source": [
    "# this fun get all the values in b,g,r and switch\n",
    "def nothing(x):\n",
    "    pass"
   ]
  },
  {
   "cell_type": "markdown",
   "id": "8fe8035e",
   "metadata": {},
   "source": [
    "creating a black image and a window"
   ]
  },
  {
   "cell_type": "code",
   "execution_count": null,
   "id": "072f4939",
   "metadata": {},
   "outputs": [],
   "source": [
    "# creating a black image and a window\n",
    "img = np.zeros((300,512,3),np.uint8)\n",
    "cv.namedWindow('image')\n",
    "\n",
    "# creating trackbar for BGR channels\n",
    "# args     (trackbarname,window,initial value,range,callbackfun)\n",
    "cv.createTrackbar('B','image',0,255,nothing)\n",
    "cv.createTrackbar('G','image',0,255,nothing)\n",
    "cv.createTrackbar('R','image',0,255,nothing)\n",
    "\n",
    "# creating variable name switch for ON and OFF\n",
    "switch = '0: OFF \\n 1: ON'\n",
    "cv.createTrackbar(switch,'image',0,1,nothing)\n",
    "\n",
    "while True:\n",
    "    cv.imshow('image',img)\n",
    "    k = cv.waitKey(0)\n",
    "    if k == 27:\n",
    "        break\n",
    "        \n",
    "    b = cv.getTrackbarPos('B','image')\n",
    "    g = cv.getTrackbarPos('G','image')\n",
    "    r = cv.getTrackbarPos('R','image')\n",
    "    s = cv.getTrackbarPos(switch,'image')\n",
    "    \n",
    "    if s == 0:\n",
    "        img[:] = 0\n",
    "    else:\n",
    "        img[:] = [b,g,r]\n",
    "        \n",
    "cv.destroyAllWindows()"
   ]
  },
  {
   "cell_type": "code",
   "execution_count": null,
   "id": "1993cbd7",
   "metadata": {},
   "outputs": [],
   "source": []
  },
  {
   "cell_type": "code",
   "execution_count": null,
   "id": "c170651d",
   "metadata": {},
   "outputs": [],
   "source": []
  },
  {
   "cell_type": "code",
   "execution_count": null,
   "id": "7c0301bc",
   "metadata": {},
   "outputs": [],
   "source": []
  },
  {
   "cell_type": "code",
   "execution_count": null,
   "id": "9bc7e074",
   "metadata": {},
   "outputs": [],
   "source": []
  }
 ],
 "metadata": {
  "kernelspec": {
   "display_name": "Python 3 (ipykernel)",
   "language": "python",
   "name": "python3"
  },
  "language_info": {
   "codemirror_mode": {
    "name": "ipython",
    "version": 3
   },
   "file_extension": ".py",
   "mimetype": "text/x-python",
   "name": "python",
   "nbconvert_exporter": "python",
   "pygments_lexer": "ipython3",
   "version": "3.10.4"
  }
 },
 "nbformat": 4,
 "nbformat_minor": 5
}
